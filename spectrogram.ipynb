{
 "cells": [
  {
   "cell_type": "code",
   "execution_count": 3,
   "metadata": {},
   "outputs": [],
   "source": [
    "%matplotlib inline\n",
    "import matplotlib.pyplot as plt\n",
    "from scipy import signal\n",
    "from scipy.io import wavfile\n",
    "import numpy as np"
   ]
  },
  {
   "cell_type": "code",
   "execution_count": 4,
   "metadata": {},
   "outputs": [
    {
     "data": {
      "image/png": "[encoded data removed]",
      "text/plain": [
       "<Figure size 432x288 with 1 Axes>"
      ]
     },
     "metadata": {
      "needs_background": "light"
     },
     "output_type": "display_data"
    }
   ],
   "source": [
    "sample_rate, samples = wavfile.read('Chips2-2200Hz-Mary_MIDI-input.wav')\n",
    "frequencies, times, spectrogram = signal.spectrogram(samples, sample_rate)\n",
    "\n",
    "mask = (frequencies < 450) & (frequencies > 100)\n",
    "\n",
    "plt.pcolormesh(times, frequencies[mask], spectrogram[ mask, :])\n",
    "plt.ylabel('Frequency [Hz]')\n",
    "plt.xlabel('Time [sec]')\n",
    "plt.show()"
   ]
  },
  {
   "cell_type": "code",
   "execution_count": 5,
   "metadata": {},
   "outputs": [
    {
     "data": {
      "text/plain": [
       "array([ -4941, -16682, -17334,  -8824,  13758,  25121,  21977,  18803,\n",
       "         8128,    663], dtype=int16)"
      ]
     },
     "execution_count": 5,
     "metadata": {},
     "output_type": "execute_result"
    }
   ],
   "source": [
    "samples[:10]"
   ]
  },
  {
   "cell_type": "code",
   "execution_count": 32,
   "metadata": {},
   "outputs": [],
   "source": [
    "data = np.load('chips1-mary-voice.npz')"
   ]
  },
  {
   "cell_type": "code",
   "execution_count": 33,
   "metadata": {},
   "outputs": [],
   "source": [
    "s1, s2, amp = data['arr_0'], data['arr_1'], data['arr_2']\n",
    "s1, s2, amp = [x[1:] for x in s1], [x[1:] for x in s2], [x[1:] for x in amp]"
   ]
  },
  {
   "cell_type": "code",
   "execution_count": 62,
   "metadata": {},
   "outputs": [],
   "source": [
    "s1, s2, amp = s1[2], s2[2], amp[2]\n",
    "s1, s2, amp = np.array([x for x in s1]), np.array([x for x in s2]), np.array([x for x in amp])"
   ]
  },
  {
   "cell_type": "code",
   "execution_count": 116,
   "metadata": {},
   "outputs": [
    {
     "data": {
      "text/plain": [
       "(38072,)"
      ]
     },
     "execution_count": 116,
     "metadata": {},
     "output_type": "execute_result"
    }
   ],
   "source": []
  },
  {
   "cell_type": "code",
   "execution_count": 56,
   "metadata": {},
   "outputs": [
    {
     "name": "stdout",
     "output_type": "stream",
     "text": [
      "(22848,) (22848,)\n",
      "[171.62477, 169.22467, 165.62363, 160.88943, 155.13159, 148.8196, 142.61664, 136.963, 131.99667, 127.68022]\n",
      "1\n",
      "(22848,) (22848,)\n",
      "[245.56331, 235.42427, 223.00264, 209.81567, 195.54732, 180.69337, 167.31622, 156.92831, 149.05548, 142.69992]\n",
      "1\n",
      "(22848,) (22848,)\n",
      "[716.7522, 703.37964, 683.6379, 658.7218, 629.2678, 597.4435, 566.86725, 540.3736, 518.72314, 501.62756]\n",
      "1\n",
      "(22848,) (22848,)\n",
      "[956.3096, 924.20325, 888.1764, 852.6799, 813.56616, 769.6007, 726.8813, 690.75616, 659.1421, 628.02576]\n",
      "1\n",
      "(22848,) (22848,)\n",
      "[2554.398, 2512.6272, 2450.87, 2371.6753, 2276.1228, 2171.4053, 2069.9263, 1980.8896, 1905.7822, 1842.9159]\n",
      "1\n"
     ]
    }
   ],
   "source": [
    "arrays = [s1[2], s2[2], s1[1], s2[1], s1[0], s2[0]]\n",
    "arrays = [np.array([x for x in ary]) for ary in arrays]\n",
    "res = np.array(arrays[0])\n",
    "\n",
    "# for i in range(len(arrays)):\n",
    "#     sos = signal.butter(5, (150, 1000), 'bandpass', fs=2200, output='sos')\n",
    "#     arrays[i] = signal.sosfilt(sos, arrays[i])\n",
    "    \n",
    "def align_and_add(res, x1, x2):\n",
    "    print(x1.shape, x2.shape)\n",
    "    \n",
    "    q = [np.sum(x1[i:] * x2[:-i]) for i in range(1, 250)]\n",
    "    tmax = np.argmax(q) + 1\n",
    "    print(q[:10])\n",
    "    print(tmax)\n",
    "    res[tmax:] += x2[:-tmax]\n",
    "    \n",
    "for i in range(1, len(arrays)):\n",
    "    align_and_add(res, arrays[0], arrays[i])"
   ]
  },
  {
   "cell_type": "code",
   "execution_count": 63,
   "metadata": {},
   "outputs": [],
   "source": [
    "\n",
    "q = [np.sum(s1[i:] * s2[:-i]) for i in range(1, 250)]\n",
    "res = np.array(s1)\n",
    "tmax = np.argmax(q) + 1\n",
    "res[tmax:] = res[tmax:] + s2[:-tmax]"
   ]
  },
  {
   "cell_type": "code",
   "execution_count": 11,
   "metadata": {},
   "outputs": [],
   "source": [
    "r1 = np.average((s1 * amp ).reshape(s1.shape[0], -1), axis=1)\n",
    "r2 = np.average((s2 * amp ).reshape(s1.shape[0], -1), axis=1)\n",
    "res = np.array(r1)"
   ]
  },
  {
   "cell_type": "code",
   "execution_count": 226,
   "metadata": {},
   "outputs": [],
   "source": [
    "q = [np.sum(r1[i:] * r2[:-i]) for i in range(1, 250)]"
   ]
  },
  {
   "cell_type": "code",
   "execution_count": 227,
   "metadata": {},
   "outputs": [],
   "source": [
    "tmax = np.argmax(q) + 1\n",
    "res[tmax:] = res[tmax:] + r2[:-tmax]"
   ]
  },
  {
   "cell_type": "code",
   "execution_count": 228,
   "metadata": {},
   "outputs": [
    {
     "data": {
      "text/plain": [
       "0.048585646"
      ]
     },
     "execution_count": 228,
     "metadata": {},
     "output_type": "execute_result"
    }
   ],
   "source": [
    "np.sum(res)"
   ]
  },
  {
   "cell_type": "code",
   "execution_count": 91,
   "metadata": {},
   "outputs": [
    {
     "data": {
      "text/plain": [
       "65.13697"
      ]
     },
     "execution_count": 91,
     "metadata": {},
     "output_type": "execute_result"
    }
   ],
   "source": [
    "np.max(q)"
   ]
  },
  {
   "cell_type": "code",
   "execution_count": 75,
   "metadata": {},
   "outputs": [],
   "source": [
    "def generate_spec(samples, sample_rate, min_freq=100, max_freq = 450):\n",
    "    frequencies, times, spectrogram = signal.spectrogram(samples, sample_rate)\n",
    "\n",
    "    mask = (frequencies < max_freq) & (frequencies > min_freq)\n",
    "\n",
    "    plt.pcolormesh(times, frequencies[mask], spectrogram[ mask, :])\n",
    "    plt.ylabel('Frequency [Hz]')\n",
    "    plt.xlabel('Time [sec]')\n",
    "    plt.show()"
   ]
  },
  {
   "cell_type": "code",
   "execution_count": 76,
   "metadata": {},
   "outputs": [
    {
     "data": {
      "text/plain": [
       "dtype('float64')"
      ]
     },
     "execution_count": 76,
     "metadata": {},
     "output_type": "execute_result"
    }
   ],
   "source": [
    "filtered.dtype"
   ]
  },
  {
   "cell_type": "code",
   "execution_count": 77,
   "metadata": {},
   "outputs": [
    {
     "data": {
      "image/png": "[encoded data removed]",
      "text/plain": [
       "<Figure size 432x288 with 1 Axes>"
      ]
     },
     "metadata": {
      "needs_background": "light"
     },
     "output_type": "display_data"
    }
   ],
   "source": [
    "sos = signal.butter(5, (400, 1000), 'bandpass', fs=2200, output='sos')\n",
    "filtered = signal.sosfilt(sos, res)\n",
    "\n",
    "# for fx in np.arange(250, 1000, 50):\n",
    "#     sos2 = signal.butter(5, (fx, 1000), 'bandpass', fs=2200, output='sos')\n",
    "#     filtered2 = signal.sosfilt(sos2, res)\n",
    "#     filtered += filtered2 * 0.4\n",
    "\n",
    "wav_res = np.clip((32767 * filtered / np.max(filtered)).astype('i2'), -32767, 32767)\n",
    "\n",
    "generate_spec(wav_res, 2200, max_freq=1100)\n",
    "wavfile.write('reconstructed-chips1-mary-voice.wav', 2200, wav_res)"
   ]
  },
  {
   "cell_type": "code",
   "execution_count": 147,
   "metadata": {},
   "outputs": [
    {
     "data": {
      "image/png": "[encoded data removed]",
      "text/plain": [
       "<Figure size 432x288 with 1 Axes>"
      ]
     },
     "metadata": {
      "needs_background": "light"
     },
     "output_type": "display_data"
    }
   ],
   "source": [
    "sos = signal.butter(5, (150, 550), 'bandpass', fs=2200, output='sos')\n",
    "filtered = signal.sosfilt(sos, res)\n",
    "\n",
    "# for fx in [200, 225, 250, 275, 300, 325, 350, 375, 400, 425, 450]:\n",
    "#     sos2 = signal.butter(5, (fx, 500), 'bandpass', fs=2200, output='sos')\n",
    "#     filtered2 = signal.sosfilt(sos2, res)\n",
    "#     filtered += filtered2 * 0.3\n",
    "\n",
    "generate_spec(filtered[2000:], 2200)"
   ]
  },
  {
   "cell_type": "code",
   "execution_count": 19,
   "metadata": {},
   "outputs": [],
   "source": [
    "wav_res = np.clip((32767 * filtered / np.max(filtered)).astype('i2'), -32767, 32767)\n",
    "wavfile.write('reconstructed-chips1-mary-voice.wav', 2200, wav_res)"
   ]
  },
  {
   "cell_type": "code",
   "execution_count": 72,
   "metadata": {},
   "outputs": [
    {
     "data": {
      "image/png": "[encoded data removed]",
      "text/plain": [
       "<Figure size 432x288 with 1 Axes>"
      ]
     },
     "metadata": {
      "needs_background": "light"
     },
     "output_type": "display_data"
    }
   ],
   "source": [
    "sample_rate, samples = wavfile.read('reconstructed.wav')\n",
    "frequencies, times, spectrogram = signal.spectrogram(samples[:8800], sample_rate)\n",
    "\n",
    "mask = (frequencies < 450) & (frequencies > 100)\n",
    "\n",
    "plt.pcolormesh(times, frequencies[mask], spectrogram[ mask, :])\n",
    "plt.ylabel('Frequency [Hz]')\n",
    "plt.xlabel('Time [sec]')\n",
    "plt.show()"
   ]
  },
  {
   "cell_type": "code",
   "execution_count": 259,
   "metadata": {},
   "outputs": [
    {
     "data": {
      "text/plain": [
       "12420.510986923022"
      ]
     },
     "execution_count": 259,
     "metadata": {},
     "output_type": "execute_result"
    }
   ],
   "source": [
    "np.std(samples)"
   ]
  },
  {
   "cell_type": "code",
   "execution_count": 260,
   "metadata": {},
   "outputs": [
    {
     "data": {
      "text/plain": [
       "11674.189652402016"
      ]
     },
     "execution_count": 260,
     "metadata": {},
     "output_type": "execute_result"
    }
   ],
   "source": [
    "np.std(wav_res)"
   ]
  },
  {
   "cell_type": "code",
   "execution_count": 173,
   "metadata": {},
   "outputs": [
    {
     "data": {
      "image/png": "[encoded data removed]",
      "text/plain": [
       "<Figure size 432x288 with 1 Axes>"
      ]
     },
     "metadata": {
      "needs_background": "light"
     },
     "output_type": "display_data"
    }
   ],
   "source": [
    "x = np.linspace(-4, 4, 20)\n",
    "plt.plot(x, np.exp(x) / (1 + np.exp(x)), label='Sigmoid')\n",
    "y = 1/2 + x / 4 - x ** 3 / 48 + x ** 5 / 480\n",
    "plt.plot(x, y * (x < 2) * (x > -2) + (x > 2), label='Approximation')\n",
    "plt.xlabel('x')\n",
    "plt.ylabel('y')\n",
    "plt.legend(loc='best')\n",
    "plt.savefig('/Users/rahulgovind/HoneyBadgerMPC/notebooks/sigmoid.png', bbox_inches='tight')"
   ]
  },
  {
   "cell_type": "code",
   "execution_count": 160,
   "metadata": {},
   "outputs": [],
   "source": [
    "data = np.load('plant-mary.npz')\n",
    "arr = data['arr_0'][:, :, 1:].astype(np.float64)\n",
    "arr = arr.reshape(-1, arr.shape[2])"
   ]
  },
  {
   "cell_type": "code",
   "execution_count": 166,
   "metadata": {},
   "outputs": [
    {
     "name": "stdout",
     "output_type": "stream",
     "text": [
      "(38975,) (38975,)\n",
      "[41.53466790897205, 8.461419495265432, -25.138146646782424, -42.38045184313614, -37.807131969918686, -18.442711992299543, 2.8058535707833343, 15.873779576972835, 18.653152739854246, 15.910514995916023]\n",
      "67\n",
      "(38975,) (38975,)\n",
      "[28.76170685314505, -1.3244887794169609, -31.94421274709814, -42.31595388974083, -26.59808824045715, 4.7782962479996485, 34.25687079515212, 49.0256581327681, 47.65252389338237, 38.04647733137686]\n",
      "135\n",
      "(38975,) (38975,)\n",
      "[-0.8594711746185286, -10.334529337928345, -20.037792912722033, -17.463345123922398, 0.19175398502131724, 25.20024318242733, 45.640678342835805, 53.45897225208573, 48.737694228376185, 37.89533057718629]\n",
      "135\n",
      "(38975,) (38975,)\n",
      "[-29.97718272514432, -13.290742725296072, 3.606494532939646, 17.619054718640903, 26.869269429377923, 30.86022906412558, 30.28879464834425, 26.576744266638723, 21.272983001255927, 15.54561193487469]\n",
      "138\n",
      "(38975,) (38975,)\n",
      "[18.365799998007716, 6.736457856395644, -5.355711056089543, -12.525412179052147, -13.162808358412152, -9.240404488155892, -4.334050429203986, -1.3378743599202454, -0.8732559832399678, -1.3448733370043617]\n",
      "1\n",
      "(38975,) (38975,)\n",
      "[17.65223494813014, 5.398430708007195, -7.45177873244024, -13.89778577905058, -11.990136475899542, -4.756960738255437, 2.622273033539676, 6.228112020557784, 5.601665069818072, 3.375406311760768]\n",
      "135\n",
      "(38975,) (38975,)\n",
      "[6.598230610232878, 0.8980762422262096, -5.182695710055869, -7.129025377243338, -3.7938056217592115, 2.513045949048781, 8.042504560813317, 10.145754949125472, 8.795206752996508, 6.118418742324259]\n",
      "135\n",
      "(38975,) (38975,)\n",
      "[-8.320928000312254, -4.128359180290513, 0.12234033349240014, 3.8158216721658027, 6.624885290741943, 8.31094438384475, 8.751545815399066, 8.120152013239387, 6.8366354358880015, 5.277344329992067]\n",
      "193\n",
      "(38975,) (38975,)\n",
      "[10.535750102282767, 5.1116119361544285, -0.773042050416652, -5.048872973679977, -6.911390725618461, -6.8610096766023325, -6.069486875983932, -5.502852419432128, -5.301392667617761, -4.862569385818106]\n",
      "1\n",
      "(38975,) (38975,)\n",
      "[12.537192400621928, 6.085742833768254, -1.0432987481341904, -6.008236930256254, -7.762235670047152, -7.140661685766966, -5.856803806832798, -5.196456138650918, -5.221346719533711, -4.986049700536803]\n",
      "1\n",
      "(38975,) (38975,)\n",
      "[7.194517749945441, 3.4949282951122287, -0.7024051936813186, -3.448057331430907, -4.066068454408276, -3.2374111425520624, -2.213284685000554, -1.8460464826530065, -2.0827068112152656, -2.188769833931195]\n",
      "1\n",
      "(38975,) (38975,)\n",
      "[-2.362608012065163, -1.1431679481436336, 0.04994779942925712, 1.13194757834172, 2.011946635941234, 2.5622710434311764, 2.726746662306214, 2.5857522244315367, 2.2759545517698614, 1.890661755974381]\n",
      "192\n"
     ]
    }
   ],
   "source": [
    "def align_and_add(res, x1, x2):\n",
    "    print(x1.shape, x2.shape)\n",
    "    \n",
    "    q = [np.sum(x1[i:] * x2[:-i]) for i in range(1, 250)]\n",
    "    tmax = np.argmax(q) + 1\n",
    "    print(q[:10])\n",
    "    print(tmax)\n",
    "    res[tmax:] += x2[:-tmax]\n",
    "\n",
    "def combine(arrays, base=0, filt=None):\n",
    "    assert arrays.ndim == 2\n",
    "    res = np.zeros_like(arr[0])\n",
    "    for i in range(len(arrays)):\n",
    "        x1 =arrays[base]\n",
    "        x2 = arrays[i]\n",
    "        if filt is not None:\n",
    "            x1 = filt(x1)\n",
    "            x2 = filt(x2)\n",
    "        align_and_add(res, x1, x2)\n",
    "    return res\n",
    "\n",
    "combined_signal = combine(arr, 4,\n",
    "                          lambda x: signal.sosfilt(signal.butter(11, (100, 550), 'bandpass', fs=2200, output='sos'), \n",
    "                                                   x))"
   ]
  },
  {
   "cell_type": "code",
   "execution_count": 185,
   "metadata": {},
   "outputs": [
    {
     "data": {
      "image/png": "[encoded data removed]",
      "text/plain": [
       "<Figure size 432x288 with 1 Axes>"
      ]
     },
     "metadata": {
      "needs_background": "light"
     },
     "output_type": "display_data"
    }
   ],
   "source": [
    "sos = signal.butter(11, (150, 550), 'bandpass', fs=2200, output='sos')\n",
    "filtered = signal.sosfilt(sos, combined_signal)\n",
    "generate_spec(filtered[2200:], 2200, max_freq=400)\n",
    "wav_res = np.clip((32767 * filtered / np.max(filtered)).astype('i2'), -32767, 32767)\n",
    "wavfile.write('reconstructed-plant-mary.wav', 2200, wav_res)"
   ]
  },
  {
   "cell_type": "code",
   "execution_count": 168,
   "metadata": {},
   "outputs": [],
   "source": [
    "from logmmse import logmmse_from_file"
   ]
  },
  {
   "cell_type": "code",
   "execution_count": 184,
   "metadata": {},
   "outputs": [],
   "source": [
    "output = logmmse_from_file('reconstructed-plant-mary.wav', window_size=2000)\n",
    "wavfile.write('reconstructed-plant-mary-denoised.wav', 2200, output)"
   ]
  },
  {
   "cell_type": "code",
   "execution_count": 182,
   "metadata": {},
   "outputs": [],
   "source": [
    "output = logmmse_from_file('reconstructed-chips1-mary-voice.wav', window_size=2000)\n",
    "wavfile.write('reconstructed-chips1-mary-voice-denoised.wav', 2200, output)"
   ]
  },
  {
   "cell_type": "code",
   "execution_count": 180,
   "metadata": {},
   "outputs": [
    {
     "data": {
      "text/plain": [
       "-31167"
      ]
     },
     "execution_count": 180,
     "metadata": {},
     "output_type": "execute_result"
    }
   ],
   "source": []
  },
  {
   "cell_type": "code",
   "execution_count": null,
   "metadata": {},
   "outputs": [],
   "source": []
  }
 ],
 "metadata": {
  "kernelspec": {
   "display_name": "Python 3",
   "language": "python",
   "name": "python3"
  }
 },
 "nbformat": 4,
 "nbformat_minor": 2
}
