{
 "cells": [
  {
   "cell_type": "code",
   "execution_count": 1,
   "metadata": {},
   "outputs": [],
   "source": [
    "%matplotlib inline\n",
    "import matplotlib.pyplot as plt\n",
    "from scipy import signal\n",
    "from scipy.io import wavfile\n",
    "import numpy as np"
   ]
  },
  {
   "cell_type": "code",
   "execution_count": 16,
   "metadata": {},
   "outputs": [
    {
     "data": {
      "image/png": "[encoded data removed]",
      "text/plain": [
       "<Figure size 432x288 with 1 Axes>"
      ]
     },
     "metadata": {
      "needs_background": "light"
     },
     "output_type": "display_data"
    }
   ],
   "source": [
    "sample_rate, samples = wavfile.read('Chips2-2200Hz-Mary_MIDI-input.wav')\n",
    "frequencies, times, spectrogram = signal.spectrogram(samples, sample_rate)\n",
    "\n",
    "mask = (frequencies < 450) & (frequencies > 100)\n",
    "\n",
    "plt.pcolormesh(times, frequencies[mask], spectrogram[ mask, :])\n",
    "plt.ylabel('Frequency [Hz]')\n",
    "plt.xlabel('Time [sec]')\n",
    "plt.show()"
   ]
  },
  {
   "cell_type": "code",
   "execution_count": 3,
   "metadata": {},
   "outputs": [
    {
     "data": {
      "text/plain": [
       "array([ -4941, -16682, -17334,  -8824,  13758,  25121,  21977,  18803,\n",
       "         8128,    663], dtype=int16)"
      ]
     },
     "execution_count": 3,
     "metadata": {},
     "output_type": "execute_result"
    }
   ],
   "source": [
    "samples[:10]"
   ]
  },
  {
   "cell_type": "code",
   "execution_count": 4,
   "metadata": {},
   "outputs": [],
   "source": [
    "data = np.load('signals1.npz')"
   ]
  },
  {
   "cell_type": "code",
   "execution_count": 5,
   "metadata": {},
   "outputs": [],
   "source": [
    "s1, s2, amp = data['arr_0'], data['arr_1'], data['arr_2']\n",
    "s1, s2, amp = [x[1:] for x in s1], [x[1:] for x in s2], [x[1:] for x in amp]"
   ]
  },
  {
   "cell_type": "code",
   "execution_count": 9,
   "metadata": {},
   "outputs": [
    {
     "data": {
      "text/plain": [
       "[array([1008.2395, 1011.1234, 1009.15704, ..., 935.4584, 938.9594,\n",
       "        946.1102], dtype=object),\n",
       " array([265.6817, 266.47107, 265.96182, ..., 247.61967, 248.54016,\n",
       "        250.43787], dtype=object),\n",
       " array([51.54635, 51.69658, 51.61182, ..., 48.049583, 48.23369, 48.604263],\n",
       "       dtype=object)]"
      ]
     },
     "execution_count": 9,
     "metadata": {},
     "output_type": "execute_result"
    }
   ],
   "source": [
    "amp"
   ]
  },
  {
   "cell_type": "code",
   "execution_count": 10,
   "metadata": {},
   "outputs": [],
   "source": [
    "s1, s2, amp = s1[2], s2[2], amp[2]\n",
    "s1, s2, amp = np.array([x for x in s1]), np.array([x for x in s2]), np.array([x for x in amp])"
   ]
  },
  {
   "cell_type": "code",
   "execution_count": 12,
   "metadata": {},
   "outputs": [],
   "source": [
    "q = [np.sum(s1[i:] * s2[:-i]) for i in range(1, 250)]\n",
    "res = np.array(s1)\n",
    "tmax = np.argmax(q) + 1\n",
    "res[tmax:] = res[tmax:] + s2[:-tmax]"
   ]
  },
  {
   "cell_type": "code",
   "execution_count": 11,
   "metadata": {},
   "outputs": [],
   "source": [
    "r1 = np.average((s1 * amp ).reshape(s1.shape[0], -1), axis=1)\n",
    "r2 = np.average((s2 * amp ).reshape(s1.shape[0], -1), axis=1)\n",
    "res = np.array(r1)"
   ]
  },
  {
   "cell_type": "code",
   "execution_count": 226,
   "metadata": {},
   "outputs": [],
   "source": [
    "q = [np.sum(r1[i:] * r2[:-i]) for i in range(1, 250)]"
   ]
  },
  {
   "cell_type": "code",
   "execution_count": 227,
   "metadata": {},
   "outputs": [],
   "source": [
    "tmax = np.argmax(q) + 1\n",
    "res[tmax:] = res[tmax:] + r2[:-tmax]"
   ]
  },
  {
   "cell_type": "code",
   "execution_count": 228,
   "metadata": {},
   "outputs": [
    {
     "data": {
      "text/plain": [
       "0.048585646"
      ]
     },
     "execution_count": 228,
     "metadata": {},
     "output_type": "execute_result"
    }
   ],
   "source": [
    "np.sum(res)"
   ]
  },
  {
   "cell_type": "code",
   "execution_count": 229,
   "metadata": {},
   "outputs": [
    {
     "data": {
      "text/plain": [
       "4.274092e-05"
      ]
     },
     "execution_count": 229,
     "metadata": {},
     "output_type": "execute_result"
    }
   ],
   "source": [
    "np.max(q)"
   ]
  },
  {
   "cell_type": "code",
   "execution_count": 14,
   "metadata": {},
   "outputs": [],
   "source": [
    "def generate_spec(samples, sample_rate):\n",
    "    frequencies, times, spectrogram = signal.spectrogram(samples, sample_rate)\n",
    "\n",
    "    mask = (frequencies < 450) & (frequencies > 100)\n",
    "\n",
    "    plt.pcolormesh(times, frequencies[mask], spectrogram[ mask, :])\n",
    "    plt.ylabel('Frequency [Hz]')\n",
    "    plt.xlabel('Time [sec]')\n",
    "    plt.show()"
   ]
  },
  {
   "cell_type": "code",
   "execution_count": 21,
   "metadata": {},
   "outputs": [
    {
     "data": {
      "image/png": "[encoded data removed]",
      "text/plain": [
       "<Figure size 432x288 with 1 Axes>"
      ]
     },
     "metadata": {
      "needs_background": "light"
     },
     "output_type": "display_data"
    }
   ],
   "source": [
    "sos = signal.butter(5, (200, 500), 'bandpass', fs=2200, output='sos')\n",
    "filtered = signal.sosfilt(sos, res)\n",
    "\n",
    "generate_spec(filtered[2000:], 2200)"
   ]
  },
  {
   "cell_type": "code",
   "execution_count": 22,
   "metadata": {},
   "outputs": [],
   "source": [
    "wav_res = np.clip((32767 * filtered / np.max(filtered)).astype('i2'), -32767, 32767)\n",
    "wavfile.write('reconstructed.wav', 2200, wav_res)"
   ]
  },
  {
   "cell_type": "code",
   "execution_count": 252,
   "metadata": {},
   "outputs": [
    {
     "data": {
      "image/png": "[encoded data removed]",
      "text/plain": [
       "<Figure size 432x288 with 1 Axes>"
      ]
     },
     "metadata": {
      "needs_background": "light"
     },
     "output_type": "display_data"
    }
   ],
   "source": [
    "sample_rate, samples = wavfile.read('reconstructed.wav')\n",
    "frequencies, times, spectrogram = signal.spectrogram(samples[:8800], sample_rate)\n",
    "\n",
    "mask = (frequencies < 450) & (frequencies > 100)\n",
    "\n",
    "plt.pcolormesh(times, frequencies[mask], spectrogram[ mask, :])\n",
    "plt.ylabel('Frequency [Hz]')\n",
    "plt.xlabel('Time [sec]')\n",
    "plt.show()"
   ]
  },
  {
   "cell_type": "code",
   "execution_count": 259,
   "metadata": {},
   "outputs": [
    {
     "data": {
      "text/plain": [
       "12420.510986923022"
      ]
     },
     "execution_count": 259,
     "metadata": {},
     "output_type": "execute_result"
    }
   ],
   "source": [
    "np.std(samples)"
   ]
  },
  {
   "cell_type": "code",
   "execution_count": 260,
   "metadata": {},
   "outputs": [
    {
     "data": {
      "text/plain": [
       "11674.189652402016"
      ]
     },
     "execution_count": 260,
     "metadata": {},
     "output_type": "execute_result"
    }
   ],
   "source": [
    "np.std(wav_res)"
   ]
  },
  {
   "cell_type": "code",
   "execution_count": null,
   "metadata": {},
   "outputs": [],
   "source": []
  }
 ],
 "metadata": {
  "kernelspec": {
   "display_name": "Python 3",
   "language": "python",
   "name": "python3"
  },
  "language_info": {
   "codemirror_mode": {
    "name": "ipython",
    "version": 3
   },
   "file_extension": ".py",
   "mimetype": "text/x-python",
   "name": "python",
   "nbconvert_exporter": "python",
   "pygments_lexer": "ipython3",
   "version": "3.7.1"
  }
 },
 "nbformat": 4,
 "nbformat_minor": 2
}
